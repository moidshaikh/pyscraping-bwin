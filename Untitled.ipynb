{
 "cells": [
  {
   "cell_type": "code",
   "execution_count": 134,
   "id": "11034d32-8054-4ddc-8fa5-b21a067cf730",
   "metadata": {},
   "outputs": [],
   "source": [
    "import requests\n",
    "import json\n",
    "from dataclasses import dataclass\n",
    "import pandas as pd"
   ]
  },
  {
   "cell_type": "code",
   "execution_count": 2,
   "id": "360f71b1-bd07-45ac-bc9c-e93e677d3665",
   "metadata": {},
   "outputs": [],
   "source": [
    "headers = {\n",
    "    \"user-agent\": \"Mozilla/5.0 (Macintosh; Intel Mac OS X 10_15_7) AppleWebKit/537.36 (KHTML, like Gecko) Chrome/107.0.0.0 Safari/537.36\",\n",
    "}\n",
    "\n",
    "response = requests.get(\n",
    "    \"https://sports.bwin.com/cds-api/bettingoffer/fixtures?x-bwin-accessid=NTZiMjk3OGMtNjU5Mi00NjA5LWI2MWItZmU4MDRhN2QxZmEz&lang=en&country=SG&userCountry=SG&fixtureTypes=Standard&state=Latest&offerMapping=Filtered&offerCategories=Gridable&fixtureCategories=Gridable,NonGridable,Other&sportIds=5&tournamentIds=&competitionIds=&conferenceIds=&isPriceBoost=false&skip=0&take=500&sortBy=Tags\",\n",
    "    headers=headers,\n",
    ")"
   ]
  },
  {
   "cell_type": "code",
   "execution_count": 16,
   "id": "84a39827-e316-4673-8203-01f251eea7f2",
   "metadata": {},
   "outputs": [],
   "source": [
    "jsondata = response.json() #keys: ['fixtures', 'totalCount', 'totalSports', 'totalRegions', 'totalCompetitions', 'totalTournaments']\n",
    "fixtures = jsondata[\"fixtures\"]"
   ]
  },
  {
   "cell_type": "code",
   "execution_count": 118,
   "id": "d6472231-8f2e-4f1c-a848-f0cf1dd6516b",
   "metadata": {},
   "outputs": [
    {
     "data": {
      "text/plain": [
       "'PreMatch'"
      ]
     },
     "execution_count": 118,
     "metadata": {},
     "output_type": "execute_result"
    }
   ],
   "source": [
    "fixtures[-1][\"Live\"]"
   ]
  },
  {
   "cell_type": "code",
   "execution_count": 35,
   "id": "ee27a183-ffcb-4da5-9ab5-dc9f7c53e0d0",
   "metadata": {},
   "outputs": [],
   "source": [
    "lfix = fixtures[23]\n",
    "nfix = fixtures[110]"
   ]
  },
  {
   "cell_type": "code",
   "execution_count": 119,
   "id": "ce0f8621-0599-4113-b9dc-91f6e48083e2",
   "metadata": {},
   "outputs": [
    {
     "data": {
      "text/plain": [
       "'PreMatch'"
      ]
     },
     "execution_count": 119,
     "metadata": {},
     "output_type": "execute_result"
    }
   ],
   "source": [
    "fi = fixtures[-12]"
   ]
  },
  {
   "cell_type": "code",
   "execution_count": 103,
   "id": "8f25b8df-24bf-4083-91f9-95ad39787081",
   "metadata": {},
   "outputs": [
    {
     "data": {
      "text/plain": [
       "'2022-11-30 12:15'"
      ]
     },
     "execution_count": 103,
     "metadata": {},
     "output_type": "execute_result"
    }
   ],
   "source": [
    "tournament = fi[\"tournament\"]['name']['value']\n",
    "    eventName = fi[\"name\"][\"value\"].replace('-','vs')\n",
    "    player1 = fi[\"participants\"][0]['name']['value']\n",
    "    player2 = fi[\"participants\"][1]['name']['value']\n",
    "    player1_odds = fi['games'][0]['results'][0]['odds']\n",
    "    player2_odds = fi['games'][0]['results'][1]['odds']\n",
    "    datefmt = \"%Y-%m-%d %H:%M\"\n",
    "    datefix = lambda x: datetime.strftime(datetime.fromisoformat(x), datefmt)\n",
    "    eventdate = datefix(fi[\"startDate\"][:-1])\n",
    "    lastupdate = datefix(fi[\"cutOffDate\"][:-1])"
   ]
  },
  {
   "cell_type": "code",
   "execution_count": 140,
   "id": "74e0cee3-d97e-4370-8b97-85427bb541cb",
   "metadata": {},
   "outputs": [
    {
     "name": "stdout",
     "output_type": "stream",
     "text": [
      "{'value': 'ATP 2023 - Season Specials', 'sign': 'ldsZuQ=='}\n",
      "{'value': 'Carlos Alcaraz Season 2023 Specials', 'sign': 'nnRnVA=='}\n",
      "{'value': 'Holger Rune - Season Specials 2023', 'sign': '3oe2Gg=='}\n",
      "{'value': 'WTA 2023 - Season Specials', 'sign': 'dBGOVQ=='}\n",
      "{'value': 'British Players - Season Specials 2023', 'sign': 'DTykYA=='}\n"
     ]
    }
   ],
   "source": [
    "data = []\n",
    "datefmt = \"%Y-%m-%d %H:%M\"\n",
    "datefix = lambda x: datetime.strftime(datetime.fromisoformat(x), datefmt)\n",
    "        \n",
    "for fi in fixtures:\n",
    "    f = {}\n",
    "    try:\n",
    "        f[\"tournament\"] = fi[\"tournament\"]['name']['value']\n",
    "        f[\"eventName\"] = fi[\"name\"][\"value\"].replace('-','vs')\n",
    "        f[\"player1\"] = fi[\"participants\"][0]['name']['value']\n",
    "        f[\"player2\"] = fi[\"participants\"][1]['name']['value']\n",
    "        f[\"player1_odds\"] = fi['games'][0]['results'][0]['odds']\n",
    "        f[\"player2_odds\"] = fi['games'][0]['results'][1]['odds']\n",
    "        f[\"eventdate\"] = datefix(fi[\"startDate\"][:-1])\n",
    "        f[\"lastupdate\"] = datefix(fi[\"cutOffDate\"][:-1])\n",
    "    except IndexError as e:\n",
    "        print(fi['name'])\n",
    "        # print(f\"Index Error. Failed at id: {fi['id']}\")\n",
    "    data.append(f)"
   ]
  },
  {
   "cell_type": "code",
   "execution_count": 142,
   "id": "d33a26fc-8d46-4954-8c20-d2253f34d371",
   "metadata": {},
   "outputs": [],
   "source": [
    "df = pd.DataFrame(data)\n",
    "\n",
    "df.to_csv(\"output.csv\")"
   ]
  },
  {
   "cell_type": "code",
   "execution_count": 115,
   "id": "fd2a1201-9f40-45bd-b0c4-8db8654d5654",
   "metadata": {},
   "outputs": [],
   "source": [
    "f1 = {\"tournament\":tournament,\n",
    "\"eventName\":eventName,\n",
    "\"player1\":player1,\n",
    "\"player2\":player2,\n",
    "\"player1_odds\":player1_odds,\n",
    "\"player2_odds\":player2_odds,\n",
    "\"eventdate\":eventdate,\n",
    "\"lastupdate\":lastupdate,}"
   ]
  },
  {
   "cell_type": "code",
   "execution_count": 114,
   "id": "385dd681-4ba3-4f7b-b5ff-37ff33798901",
   "metadata": {},
   "outputs": [],
   "source": [
    "from dataclasses import dataclass\n",
    "@dataclass\n",
    "class Fixture:\n",
    "    tournament: str\n",
    "    eventName: str\n",
    "    player1: str\n",
    "    player2: str\n",
    "    player1_odds: float\n",
    "    player2_odds: float\n",
    "    tournament: str\n",
    "    eventName: str"
   ]
  },
  {
   "cell_type": "code",
   "execution_count": 144,
   "id": "1333a99e-7a40-429d-87bc-484aa68ae08c",
   "metadata": {},
   "outputs": [],
   "source": [
    "with open(\"fixture_data.json\", 'r') as f:\n",
    "    fidata = json.load(f)\n",
    "    \n",
    "    "
   ]
  },
  {
   "cell_type": "code",
   "execution_count": 147,
   "id": "0081362a-c6ff-4d53-bdb6-8322a2dfc2c5",
   "metadata": {},
   "outputs": [
    {
     "data": {
      "text/plain": [
       "[{'tournament': 'Promotions', 'eventName': 'ATP 2023 vs Season Specials'},\n",
       " {'tournament': 'Promotions',\n",
       "  'eventName': 'Carlos Alcaraz Season 2023 Specials'},\n",
       " {'tournament': 'Promotions',\n",
       "  'eventName': 'Holger Rune vs Season Specials 2023'},\n",
       " {'tournament': 'Promotions', 'eventName': 'WTA 2023 vs Season Specials'},\n",
       " {'tournament': 'Promotions',\n",
       "  'eventName': 'British Players vs Season Specials 2023'}]"
      ]
     },
     "execution_count": 147,
     "metadata": {},
     "output_type": "execute_result"
    }
   ],
   "source": [
    "[x for x in fidata if 'player1' not in x.keys()]"
   ]
  },
  {
   "cell_type": "code",
   "execution_count": null,
   "id": "8f01a6d6-6d9d-4a45-9a47-3b69f88b1cd3",
   "metadata": {},
   "outputs": [],
   "source": [
    "\n",
    "user_agent_list = [\n",
    "    'Mozilla/5.0 (Windows NT 10.0; Win64; x64) AppleWebKit/537.36 (KHTML, like Gecko) Chrome/93.0.4577.82 Safari/537.36',\n",
    "    'Mozilla/5.0 (iPhone; CPU iPhone OS 14_4_2 like Mac OS X) AppleWebKit/605.1.15 (KHTML, like Gecko) Version/14.0.3 Mobile/15E148 Safari/604.1',\n",
    "    'Mozilla/4.0 (compatible; MSIE 9.0; Windows NT 6.1)',\n",
    "    'Mozilla/5.0 (Windows NT 10.0; Win64; x64) AppleWebKit/537.36 (KHTML, like Gecko) Chrome/87.0.4280.141 Safari/537.36 Edg/87.0.664.75',\n",
    "    'Mozilla/5.0 (Windows NT 10.0; Win64; x64) AppleWebKit/537.36 (KHTML, like Gecko) Chrome/70.0.3538.102 Safari/537.36 Edge/18.18363',\n",
    "]\n",
    "\n",
    "\n",
    "u1 = \"https://sports.bwin.com/cds-api/offer-grouping/grid-view/all/regional?x-bwin-accessid=NTZiMjk3OGMtNjU5Mi00NjA5LWI2MWItZmU4MDRhN2QxZmEz&lang=en&country=GB&usercountry=GB\"\n",
    "u2 = \"https://sports.bwin.com/cds-api/bettingoffer/fixtures?x-bwin-accessid=NTZiMjk3OGMtNjU5Mi00NjA5LWI2MWItZmU4MDRhN2QxZmEz&lang=en&country=SG&userCountry=SG&fixtureTypes=Standard&state=Latest&offerMapping=Filtered&offerCategories=Gridable&fixtureCategories=Gridable,NonGridable,Other&sportIds=5&tournamentIds=&competitionIds=&conferenceIds=&isPriceBoost=false&skip=0&take=50&sortBy=Tags\"\n",
    "s = requests.Session()\n",
    "s.headers.update({'user-agent': random.choice(user_agent_list)})\n",
    "url = \"https://sports.bwin.com\"\n",
    "\n",
    "r = s.get(url)\n",
    "lgr.info(r.status_code)\n",
    "lgr.error(r.headers)\n",
    "\n"
   ]
  }
 ],
 "metadata": {
  "kernelspec": {
   "display_name": "Python 3 (ipykernel)",
   "language": "python",
   "name": "python3"
  },
  "language_info": {
   "codemirror_mode": {
    "name": "ipython",
    "version": 3
   },
   "file_extension": ".py",
   "mimetype": "text/x-python",
   "name": "python",
   "nbconvert_exporter": "python",
   "pygments_lexer": "ipython3",
   "version": "3.9.12"
  }
 },
 "nbformat": 4,
 "nbformat_minor": 5
}
